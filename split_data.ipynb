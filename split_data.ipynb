{
 "cells": [
  {
   "cell_type": "code",
   "execution_count": 27,
   "id": "14e903c5",
   "metadata": {
    "ExecuteTime": {
     "end_time": "2022-05-29T08:55:05.361213Z",
     "start_time": "2022-05-29T08:55:05.357569Z"
    }
   },
   "outputs": [],
   "source": [
    "import os\n",
    "import random\n",
    "import subprocess\n",
    "\n",
    "data_path = \"data/ishihara/train\"\n",
    "file_names = os.listdir(data_path)"
   ]
  },
  {
   "cell_type": "code",
   "execution_count": 28,
   "id": "2ecdd484",
   "metadata": {
    "ExecuteTime": {
     "end_time": "2022-05-29T08:55:05.888016Z",
     "start_time": "2022-05-29T08:55:05.885146Z"
    }
   },
   "outputs": [],
   "source": [
    "test_files = random.sample(file_names, int(len(file_names) * 0.05))"
   ]
  },
  {
   "cell_type": "code",
   "execution_count": 29,
   "id": "c9589275",
   "metadata": {
    "ExecuteTime": {
     "end_time": "2022-05-29T08:55:06.166122Z",
     "start_time": "2022-05-29T08:55:06.162015Z"
    }
   },
   "outputs": [
    {
     "data": {
      "text/plain": [
       "['0_HindGuntur-Boldtheme_1 type_1.png',\n",
       " '9_Domine-Boldtheme_4 type_3.png',\n",
       " '0_Tillana-Boldtheme_3 type_3.png',\n",
       " '1_Spectral-Mediumtheme_2 type_2.png',\n",
       " '3_Imprima-Regulartheme_1 type_1.png',\n",
       " '7_TlwgTypisttheme_1 type_1.png',\n",
       " '0_Phetsarath_OTtheme_3 type_3.png',\n",
       " '0_DejaVuSansCondensed-Obliquetheme_4 type_3.png',\n",
       " '4_Chilanka-Regulartheme_2 type_2.png',\n",
       " '8_PlayfairDisplaySC-Italictheme_3 type_3.png',\n",
       " '8_FreeSerifBoldItalictheme_2 type_2.png',\n",
       " '4_HindGuntur-Boldtheme_3 type_3.png',\n",
       " '9_PlayfairDisplaySC-Italictheme_3 type_3.png',\n",
       " '6_AveriaLibre-LightItalictheme_4 type_3.png',\n",
       " '3_Tillana-Boldtheme_4 type_3.png',\n",
       " '3_Mate-Regulartheme_2 type_2.png',\n",
       " '6_Changa-Boldtheme_1 type_1.png',\n",
       " '1_PlayfairDisplaySC-Italictheme_3 type_3.png',\n",
       " '9_Domine-Boldtheme_2 type_2.png',\n",
       " '5_TlwgTypewriter-Obliquetheme_2 type_2.png',\n",
       " '7_FreeSerifBoldItalictheme_1 type_1.png',\n",
       " '2_LiberationMono-Boldtheme_2 type_2.png',\n",
       " '5_EncodeSans-Lighttheme_4 type_3.png',\n",
       " '4_EncodeSans-Lighttheme_1 type_1.png',\n",
       " '7_Waree-Obliquetheme_1 type_1.png',\n",
       " '0_Domine-Boldtheme_2 type_2.png',\n",
       " '0_Fahkwang-SemiBoldItalictheme_4 type_3.png',\n",
       " '2_Oldenburg-Regulartheme_3 type_3.png',\n",
       " '1_LiberationMono-Boldtheme_1 type_1.png',\n",
       " '8_FreeSerifBoldItalictheme_1 type_1.png',\n",
       " '6_Waree-Obliquetheme_3 type_3.png',\n",
       " '7_TlwgTypewriter-Obliquetheme_2 type_2.png',\n",
       " '4_AveriaSerifLibre-Regulartheme_2 type_2.png',\n",
       " '6_AveriaLibre-LightItalictheme_1 type_1.png',\n",
       " '8_Changa-Boldtheme_2 type_2.png',\n",
       " '5_Phetsarath_OTtheme_3 type_3.png',\n",
       " '1_DejaVuSerifCondensed-Italictheme_4 type_3.png',\n",
       " '3_Varela-Regulartheme_4 type_3.png',\n",
       " '6_AveriaLibre-LightItalictheme_3 type_3.png',\n",
       " '8_VeraMoBItheme_4 type_3.png',\n",
       " '3_Varela-Regulartheme_2 type_2.png',\n",
       " '9_Imprima-Regulartheme_1 type_1.png',\n",
       " '1_PlayfairDisplaySC-Italictheme_2 type_2.png',\n",
       " '9_TlwgTypewriter-Obliquetheme_4 type_3.png',\n",
       " '5_ExpletusSans-Italictheme_2 type_2.png',\n",
       " '6_ChangaOne-Regulartheme_4 type_3.png',\n",
       " '9_Asap-MediumItalictheme_3 type_3.png',\n",
       " '9_DejaVuSerifCondensed-Italictheme_4 type_3.png',\n",
       " '8_CormorantGaramond-Lighttheme_4 type_3.png',\n",
       " '4_Umpush-LightObliquetheme_4 type_3.png',\n",
       " '6_Oldenburg-Regulartheme_4 type_3.png',\n",
       " '8_Mate-Regulartheme_4 type_3.png',\n",
       " '9_Chilanka-Regulartheme_4 type_3.png',\n",
       " '0_DejaVuSerifCondensed-Italictheme_4 type_3.png',\n",
       " '0_DejaVuSanstheme_3 type_3.png',\n",
       " '2_CormorantGaramond-Lighttheme_1 type_1.png',\n",
       " '5_Tillana-Boldtheme_2 type_2.png',\n",
       " '1_K2D-Lighttheme_2 type_2.png',\n",
       " '3_FreeSerifBoldItalictheme_1 type_1.png',\n",
       " '1_EncodeSans-Lighttheme_3 type_3.png',\n",
       " '6_Exo-BlackItalictheme_1 type_1.png',\n",
       " '4_ExpletusSans-Italictheme_3 type_3.png',\n",
       " '8_Exo-BlackItalictheme_2 type_2.png',\n",
       " '5_Exo-BlackItalictheme_3 type_3.png',\n",
       " '1_Fahkwang-SemiBoldItalictheme_4 type_3.png',\n",
       " '3_EncodeSans-Lighttheme_3 type_3.png',\n",
       " '2_K2D-Lighttheme_4 type_3.png',\n",
       " '5_HindGuntur-Boldtheme_2 type_2.png',\n",
       " '6_AveriaSerifLibre-Regulartheme_3 type_3.png',\n",
       " '2_Fahkwang-SemiBoldItalictheme_3 type_3.png']"
      ]
     },
     "execution_count": 29,
     "metadata": {},
     "output_type": "execute_result"
    }
   ],
   "source": [
    "test_files"
   ]
  },
  {
   "cell_type": "code",
   "execution_count": 30,
   "id": "a495ef99",
   "metadata": {
    "ExecuteTime": {
     "end_time": "2022-05-29T08:55:06.937733Z",
     "start_time": "2022-05-29T08:55:06.934184Z"
    }
   },
   "outputs": [
    {
     "data": {
      "text/plain": [
       "70"
      ]
     },
     "execution_count": 30,
     "metadata": {},
     "output_type": "execute_result"
    }
   ],
   "source": [
    "len(test_files)"
   ]
  },
  {
   "cell_type": "code",
   "execution_count": 31,
   "id": "46ac7103",
   "metadata": {
    "ExecuteTime": {
     "end_time": "2022-05-29T08:55:07.754717Z",
     "start_time": "2022-05-29T08:55:07.751060Z"
    }
   },
   "outputs": [
    {
     "data": {
      "text/plain": [
       "1400"
      ]
     },
     "execution_count": 31,
     "metadata": {},
     "output_type": "execute_result"
    }
   ],
   "source": [
    "len(file_names)"
   ]
  },
  {
   "cell_type": "code",
   "execution_count": 32,
   "id": "f4cde334",
   "metadata": {
    "ExecuteTime": {
     "end_time": "2022-05-29T08:55:10.954460Z",
     "start_time": "2022-05-29T08:55:10.474610Z"
    }
   },
   "outputs": [],
   "source": [
    "for f in test_files:\n",
    "    subprocess.call(['mv', data_path+'/'+f, 'data/ishihara/test/.'])"
   ]
  },
  {
   "cell_type": "code",
   "execution_count": null,
   "id": "32c1742f",
   "metadata": {},
   "outputs": [],
   "source": []
  }
 ],
 "metadata": {
  "kernelspec": {
   "display_name": "Python 3",
   "language": "python",
   "name": "python3"
  },
  "language_info": {
   "codemirror_mode": {
    "name": "ipython",
    "version": 3
   },
   "file_extension": ".py",
   "mimetype": "text/x-python",
   "name": "python",
   "nbconvert_exporter": "python",
   "pygments_lexer": "ipython3",
   "version": "3.8.10"
  },
  "toc": {
   "base_numbering": 1,
   "nav_menu": {},
   "number_sections": false,
   "sideBar": true,
   "skip_h1_title": false,
   "title_cell": "Table of Contents",
   "title_sidebar": "Contents",
   "toc_cell": false,
   "toc_position": {},
   "toc_section_display": true,
   "toc_window_display": false
  }
 },
 "nbformat": 4,
 "nbformat_minor": 5
}
